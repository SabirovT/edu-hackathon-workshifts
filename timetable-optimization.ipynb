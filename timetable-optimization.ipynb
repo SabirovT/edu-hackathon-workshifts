{
 "cells": [
  {
   "cell_type": "code",
   "execution_count": 1,
   "id": "8ff719df",
   "metadata": {},
   "outputs": [],
   "source": [
    "import numpy as np\n",
    "import matplotlib.pyplot as plt\n",
    "import pandas as pd\n",
    "\n",
    "from scipy.optimize import curve_fit"
   ]
  },
  {
   "cell_type": "markdown",
   "id": "3103a334",
   "metadata": {},
   "source": [
    "# Upload the data"
   ]
  },
  {
   "cell_type": "code",
   "execution_count": 2,
   "id": "a0747cdc",
   "metadata": {},
   "outputs": [],
   "source": [
    "orders = pd.read_csv('orders.csv')\n",
    "orders.date = pd.to_datetime(orders.date)\n",
    "\n",
    "delays = pd.read_csv('partners_delays.csv')\n",
    "delays = delays.rename(columns={'dttm': 'date'})\n",
    "delays.date = pd.to_datetime(delays.date)\n",
    "\n",
    "forecast = pd.read_csv('orders-forecasted.csv')"
   ]
  },
  {
   "cell_type": "markdown",
   "id": "a701f27f",
   "metadata": {},
   "source": [
    "# Data preprocessing"
   ]
  },
  {
   "cell_type": "code",
   "execution_count": 3,
   "id": "b68c6c76",
   "metadata": {},
   "outputs": [],
   "source": [
    "df_train = orders[(orders.date >= pd.to_datetime('2021-11-08')) & (orders.date < pd.to_datetime('2021-12-01'))]\n",
    "df_train_const = df_train.groupby(by='delivery_area_id', as_index=False).mean()\n",
    "df_train_const = df_train_const[df_train_const.orders_cnt >= 10]\n",
    "\n",
    "delays = delays[(delays.date >= pd.to_datetime('2021-11-08')) & (delays.date < pd.to_datetime('2021-12-01'))]\n",
    "delays = delays[delays.delivery_area_id.isin(df_train_const.delivery_area_id)]\n",
    "orders = orders[(orders.date >= pd.to_datetime('2021-11-08')) & (orders.date < pd.to_datetime('2021-12-01'))]\n",
    "orders = orders[orders.delivery_area_id.isin(df_train_const.delivery_area_id)]\n",
    "\n",
    "\n",
    "df = orders.join(delays.set_index(['delivery_area_id', 'date']), \n",
    "                 on=['delivery_area_id', 'date'], \n",
    "                 how='inner')\n",
    "\n",
    "timetable = df.groupby(by=['delivery_area_id'], as_index=False).mean()"
   ]
  },
  {
   "cell_type": "markdown",
   "id": "17d14cb1",
   "metadata": {},
   "source": [
    "# Dependency of delay rate analysis"
   ]
  },
  {
   "cell_type": "code",
   "execution_count": 4,
   "id": "a683921d",
   "metadata": {},
   "outputs": [
    {
     "name": "stdout",
     "output_type": "stream",
     "text": [
      "X-axis intersection: 0.8474004520951727\n"
     ]
    },
    {
     "data": {
      "image/png": "[encoded data removed]",
      "text/plain": [
       "<Figure size 432x288 with 1 Axes>"
      ]
     },
     "metadata": {
      "needs_background": "light"
     },
     "output_type": "display_data"
    }
   ],
   "source": [
    "def linear(x, a, b): return a*x + b\n",
    "\n",
    "x, y = timetable.orders_cnt/timetable.partners_cnt, timetable.delay_rate\n",
    "\n",
    "popt, pcov = curve_fit(linear, x, y)\n",
    "\n",
    "plt.scatter(x, y)\n",
    "plt.plot(x, linear(x, *popt), c='orange')\n",
    "plt.xlabel('Mean orders per partners')\n",
    "plt.ylabel('Mean delay rate')\n",
    "\n",
    "a, b = popt\n",
    "print('X-axis intersection:', -b/a)"
   ]
  },
  {
   "cell_type": "markdown",
   "id": "e229155f",
   "metadata": {},
   "source": [
    "# Timetable optimization"
   ]
  },
  {
   "cell_type": "code",
   "execution_count": 5,
   "id": "c27624cc",
   "metadata": {},
   "outputs": [
    {
     "data": {
      "text/html": [
       "<div>\n",
       "<style scoped>\n",
       "    .dataframe tbody tr th:only-of-type {\n",
       "        vertical-align: middle;\n",
       "    }\n",
       "\n",
       "    .dataframe tbody tr th {\n",
       "        vertical-align: top;\n",
       "    }\n",
       "\n",
       "    .dataframe thead th {\n",
       "        text-align: right;\n",
       "    }\n",
       "</style>\n",
       "<table border=\"1\" class=\"dataframe\">\n",
       "  <thead>\n",
       "    <tr style=\"text-align: right;\">\n",
       "      <th></th>\n",
       "      <th>delivery_area_id</th>\n",
       "      <th>date</th>\n",
       "      <th>orders_cnt</th>\n",
       "      <th>partners_cnt</th>\n",
       "    </tr>\n",
       "  </thead>\n",
       "  <tbody>\n",
       "    <tr>\n",
       "      <th>0</th>\n",
       "      <td>0</td>\n",
       "      <td>2021-12-01 10:00:00</td>\n",
       "      <td>15</td>\n",
       "      <td>17.701194</td>\n",
       "    </tr>\n",
       "    <tr>\n",
       "      <th>1</th>\n",
       "      <td>0</td>\n",
       "      <td>2021-12-01 11:00:00</td>\n",
       "      <td>10</td>\n",
       "      <td>11.800796</td>\n",
       "    </tr>\n",
       "    <tr>\n",
       "      <th>2</th>\n",
       "      <td>0</td>\n",
       "      <td>2021-12-01 12:00:00</td>\n",
       "      <td>7</td>\n",
       "      <td>8.260557</td>\n",
       "    </tr>\n",
       "    <tr>\n",
       "      <th>3</th>\n",
       "      <td>0</td>\n",
       "      <td>2021-12-01 13:00:00</td>\n",
       "      <td>11</td>\n",
       "      <td>12.980876</td>\n",
       "    </tr>\n",
       "    <tr>\n",
       "      <th>4</th>\n",
       "      <td>0</td>\n",
       "      <td>2021-12-01 14:00:00</td>\n",
       "      <td>10</td>\n",
       "      <td>11.800796</td>\n",
       "    </tr>\n",
       "  </tbody>\n",
       "</table>\n",
       "</div>"
      ],
      "text/plain": [
       "   delivery_area_id                 date  orders_cnt  partners_cnt\n",
       "0                 0  2021-12-01 10:00:00          15     17.701194\n",
       "1                 0  2021-12-01 11:00:00          10     11.800796\n",
       "2                 0  2021-12-01 12:00:00           7      8.260557\n",
       "3                 0  2021-12-01 13:00:00          11     12.980876\n",
       "4                 0  2021-12-01 14:00:00          10     11.800796"
      ]
     },
     "execution_count": 5,
     "metadata": {},
     "output_type": "execute_result"
    }
   ],
   "source": [
    "timetable_optimized = pd.DataFrame(forecast)\n",
    "timetable_optimized['partners_cnt'] = (-a/b)*timetable_optimized.orders_cnt\n",
    "timetable_optimized.head()"
   ]
  },
  {
   "cell_type": "code",
   "execution_count": 6,
   "id": "50ccc9a6",
   "metadata": {},
   "outputs": [
    {
     "data": {
      "text/html": [
       "<div>\n",
       "<style scoped>\n",
       "    .dataframe tbody tr th:only-of-type {\n",
       "        vertical-align: middle;\n",
       "    }\n",
       "\n",
       "    .dataframe tbody tr th {\n",
       "        vertical-align: top;\n",
       "    }\n",
       "\n",
       "    .dataframe thead th {\n",
       "        text-align: right;\n",
       "    }\n",
       "</style>\n",
       "<table border=\"1\" class=\"dataframe\">\n",
       "  <thead>\n",
       "    <tr style=\"text-align: right;\">\n",
       "      <th></th>\n",
       "      <th>delivery_area_id</th>\n",
       "      <th>date</th>\n",
       "      <th>partners_cnt</th>\n",
       "    </tr>\n",
       "  </thead>\n",
       "  <tbody>\n",
       "    <tr>\n",
       "      <th>0</th>\n",
       "      <td>0</td>\n",
       "      <td>2021-12-01 10:00:00</td>\n",
       "      <td>17</td>\n",
       "    </tr>\n",
       "    <tr>\n",
       "      <th>1</th>\n",
       "      <td>0</td>\n",
       "      <td>2021-12-01 11:00:00</td>\n",
       "      <td>11</td>\n",
       "    </tr>\n",
       "    <tr>\n",
       "      <th>2</th>\n",
       "      <td>0</td>\n",
       "      <td>2021-12-01 12:00:00</td>\n",
       "      <td>8</td>\n",
       "    </tr>\n",
       "    <tr>\n",
       "      <th>3</th>\n",
       "      <td>0</td>\n",
       "      <td>2021-12-01 13:00:00</td>\n",
       "      <td>12</td>\n",
       "    </tr>\n",
       "    <tr>\n",
       "      <th>4</th>\n",
       "      <td>0</td>\n",
       "      <td>2021-12-01 14:00:00</td>\n",
       "      <td>11</td>\n",
       "    </tr>\n",
       "    <tr>\n",
       "      <th>...</th>\n",
       "      <td>...</td>\n",
       "      <td>...</td>\n",
       "      <td>...</td>\n",
       "    </tr>\n",
       "    <tr>\n",
       "      <th>4008</th>\n",
       "      <td>516</td>\n",
       "      <td>2021-12-07 17:00:00</td>\n",
       "      <td>11</td>\n",
       "    </tr>\n",
       "    <tr>\n",
       "      <th>4009</th>\n",
       "      <td>516</td>\n",
       "      <td>2021-12-07 18:00:00</td>\n",
       "      <td>14</td>\n",
       "    </tr>\n",
       "    <tr>\n",
       "      <th>4010</th>\n",
       "      <td>516</td>\n",
       "      <td>2021-12-07 19:00:00</td>\n",
       "      <td>15</td>\n",
       "    </tr>\n",
       "    <tr>\n",
       "      <th>4011</th>\n",
       "      <td>516</td>\n",
       "      <td>2021-12-07 20:00:00</td>\n",
       "      <td>15</td>\n",
       "    </tr>\n",
       "    <tr>\n",
       "      <th>4012</th>\n",
       "      <td>516</td>\n",
       "      <td>2021-12-07 21:00:00</td>\n",
       "      <td>11</td>\n",
       "    </tr>\n",
       "  </tbody>\n",
       "</table>\n",
       "<p>4013 rows × 3 columns</p>\n",
       "</div>"
      ],
      "text/plain": [
       "      delivery_area_id                 date  partners_cnt\n",
       "0                    0  2021-12-01 10:00:00            17\n",
       "1                    0  2021-12-01 11:00:00            11\n",
       "2                    0  2021-12-01 12:00:00             8\n",
       "3                    0  2021-12-01 13:00:00            12\n",
       "4                    0  2021-12-01 14:00:00            11\n",
       "...                ...                  ...           ...\n",
       "4008               516  2021-12-07 17:00:00            11\n",
       "4009               516  2021-12-07 18:00:00            14\n",
       "4010               516  2021-12-07 19:00:00            15\n",
       "4011               516  2021-12-07 20:00:00            15\n",
       "4012               516  2021-12-07 21:00:00            11\n",
       "\n",
       "[4013 rows x 3 columns]"
      ]
     },
     "execution_count": 6,
     "metadata": {},
     "output_type": "execute_result"
    }
   ],
   "source": [
    "timetable_optimized = timetable_optimized.drop(columns='orders_cnt')\n",
    "timetable_optimized.partners_cnt = timetable_optimized.partners_cnt.apply(int)\n",
    "timetable_optimized"
   ]
  },
  {
   "cell_type": "code",
   "execution_count": 7,
   "id": "1dc23f7a",
   "metadata": {},
   "outputs": [],
   "source": [
    "timetable_optimized.to_csv('timetable_optimized.csv')"
   ]
  }
 ],
 "metadata": {
  "kernelspec": {
   "display_name": "Python 3 (ipykernel)",
   "language": "python",
   "name": "python3"
  },
  "language_info": {
   "codemirror_mode": {
    "name": "ipython",
    "version": 3
   },
   "file_extension": ".py",
   "mimetype": "text/x-python",
   "name": "python",
   "nbconvert_exporter": "python",
   "pygments_lexer": "ipython3",
   "version": "3.8.6"
  }
 },
 "nbformat": 4,
 "nbformat_minor": 5
}
